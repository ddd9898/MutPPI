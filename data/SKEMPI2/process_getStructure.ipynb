{
 "cells": [
  {
   "cell_type": "code",
   "execution_count": 1,
   "metadata": {},
   "outputs": [],
   "source": [
    "import os\n",
    "import sys\n",
    "import  urllib.request\n",
    "import pandas as pd\n",
    "from tqdm import tqdm\n",
    "import numpy as np\n",
    "from pymol import *"
   ]
  },
  {
   "cell_type": "code",
   "execution_count": 2,
   "metadata": {},
   "outputs": [],
   "source": [
    "aa_dict = {'GLY':'G','ALA' :'A','VAL': 'V','LEU': 'L','ILE': 'I','PRO': 'P','PHE' :'F','TYR' :'Y','TRP' :'W',\n",
    "'SER' :'S','THR': 'T','CYS': 'C','MET': 'M','ASN': 'N','GLN' :'Q','ASP': 'D', 'GLU' :'E','LYS' :'K','ARG' :'R', 'HIS' :'H',\n",
    "'NAG':'X', 'DG':'X','DT':'X','DC':'X','DA':'X','UNK':'X',\n",
    "'GLX':'X'}"
   ]
  },
  {
   "cell_type": "code",
   "execution_count": 3,
   "metadata": {},
   "outputs": [],
   "source": [
    "\n",
    "def get_chain_ca_coordinates(pdb_path, chain_id):\n",
    "    \"\"\"\n",
    "    获取指定链上的所有氨基酸残基的 Cα（alpha-carbon）坐标\n",
    "    \"\"\"\n",
    "\n",
    "    cmd.delete('all')\n",
    "    # cmd.load('./data/PDBs/{}.pdb'.format(pdb_name))\n",
    "    cmd.load(pdb_path)\n",
    "    cmd.remove('solvent')\n",
    "    cmd.remove('hetatm')\n",
    "\n",
    "    pos_dict = dict()  # 临时存储数据\n",
    "    model = cmd.get_model(f\"chain {chain_id} and name CA\")  # 获取 Cα 原子数据\n",
    "    for atom in model.atom:\n",
    "        resn = atom.resn   # 残基名称\n",
    "        resi = atom.resi   # 残基编号\n",
    "        x, y, z = atom.coord  # Cα 原子的坐标\n",
    "        # stored_list.append([resn, resi, x, y, z])\n",
    "\n",
    "        ID = '{}-{}'.format(resi, aa_dict[resn])\n",
    "        pos = [x, y, z]\n",
    "        pos_dict[ID] = pos\n",
    "\n",
    "    return pos_dict\n",
    "\n"
   ]
  },
  {
   "cell_type": "code",
   "execution_count": 4,
   "metadata": {},
   "outputs": [
    {
     "name": "stderr",
     "output_type": "stream",
     "text": [
      "  0%|          | 0/4169 [00:00<?, ?it/s]"
     ]
    },
    {
     "name": "stderr",
     "output_type": "stream",
     "text": [
      "100%|██████████| 4169/4169 [00:35<00:00, 116.29it/s]\n"
     ]
    },
    {
     "name": "stdout",
     "output_type": "stream",
     "text": [
      "S4169 done!\n"
     ]
    }
   ],
   "source": [
    "aa_coor_dict = dict()\n",
    "\n",
    "\n",
    "##Training\n",
    "data = pd.read_csv('./S4169.csv').values.tolist()\n",
    "# data = pd.read_csv('./S4169.csv').values.tolist()\n",
    "for item in tqdm(data):\n",
    "    pdb_name = item[0]\n",
    "    biounit_chains = list(item[1].replace('_',''))\n",
    "    mutation = item[4]\n",
    "    ddg = item[5]\n",
    "\n",
    "    mut_chain = mutation[0]\n",
    "    src_aa = mutation[2]\n",
    "    tgt_aa = mutation[-1]\n",
    "    pos = mutation[3:-1]\n",
    "\n",
    "    for chain in biounit_chains:\n",
    "        subunit_ID = pdb_name + '_' + chain\n",
    "        if subunit_ID not in aa_coor_dict.keys():\n",
    "            pos_data = get_chain_ca_coordinates('./PDBs/{}.pdb'.format(pdb_name),chain) # 获取alpha碳原子坐标\n",
    "            aa_coor_dict[subunit_ID] = pos_data\n",
    "    \n",
    "    ##Check if mutation information is wrong\n",
    "    src_aa_pos = '{}-{}'.format(pos,src_aa)\n",
    "    mut_subunit = pdb_name + '_' + mut_chain\n",
    "    if src_aa_pos not in aa_coor_dict[mut_subunit].keys():\n",
    "        print(\"Something is wrong for {}\".format(item))\n",
    "\n",
    "np.save('./S4169_aa-position.npy',aa_coor_dict)\n",
    "print('S4169 done!')\n"
   ]
  },
  {
   "cell_type": "code",
   "execution_count": 5,
   "metadata": {},
   "outputs": [
    {
     "name": "stderr",
     "output_type": "stream",
     "text": [
      "  0%|          | 0/645 [00:00<?, ?it/s]"
     ]
    },
    {
     "name": "stderr",
     "output_type": "stream",
     "text": [
      "100%|██████████| 645/645 [00:03<00:00, 176.80it/s]"
     ]
    },
    {
     "name": "stdout",
     "output_type": "stream",
     "text": [
      "645\n",
      "S645 done!\n"
     ]
    },
    {
     "name": "stderr",
     "output_type": "stream",
     "text": [
      "\n"
     ]
    }
   ],
   "source": [
    "aa_coor_dict = dict()\n",
    "\n",
    "\n",
    "##Test 2\n",
    "no_error_count = 0\n",
    "# data = pd.read_csv('./data/SKEMPI2/AB-Bind-Database/AB_645.csv').values.tolist() \n",
    "data = pd.read_csv('./AB-Bind-Database/AB_645.csv').values.tolist() \n",
    "for item in tqdm(data):\n",
    "    pdb_name = item[0]\n",
    "    # if 'HM_' in pdb_name:\n",
    "    #     pdb_name = item[0].replace('HM_','')\n",
    "    biounit_chains = list(item[1].replace('_',''))\n",
    "    mutation = item[4]\n",
    "    ddg = item[5]\n",
    "\n",
    "    mut_chain = mutation[0]\n",
    "    src_aa = mutation[2]\n",
    "    tgt_aa = mutation[-1]\n",
    "    pos = mutation[3:-1]\n",
    "\n",
    "    for chain in biounit_chains:\n",
    "        subunit_ID = pdb_name + '_' + chain\n",
    "\n",
    "        if subunit_ID not in aa_coor_dict.keys():\n",
    "            pos_data = get_chain_ca_coordinates('./AB-Bind-Database/{}.pdb'.format(pdb_name),chain) # 获取alpha碳原子坐标\n",
    "            aa_coor_dict[subunit_ID] = pos_data\n",
    "\n",
    "    ##Check if mutation information is wrong\n",
    "    src_aa_pos = '{}-{}'.format(pos,src_aa)\n",
    "    mut_subunit = pdb_name + '_' + mut_chain\n",
    "\n",
    "    if src_aa_pos.upper() not in aa_coor_dict[mut_subunit].keys():\n",
    "        print(\"Something is wrong for {}-{}-{}\".format(item[0], item[1],item[4]))\n",
    "    else:\n",
    "        no_error_count += 1\n",
    "\n",
    "\n",
    "print(no_error_count)\n",
    "np.save('./S645_aa-position.npy',aa_coor_dict)\n",
    "print('S645 done!')\n"
   ]
  }
 ],
 "metadata": {
  "kernelspec": {
   "display_name": "ml-Bio",
   "language": "python",
   "name": "python3"
  },
  "language_info": {
   "codemirror_mode": {
    "name": "ipython",
    "version": 3
   },
   "file_extension": ".py",
   "mimetype": "text/x-python",
   "name": "python",
   "nbconvert_exporter": "python",
   "pygments_lexer": "ipython3",
   "version": "3.9.18"
  }
 },
 "nbformat": 4,
 "nbformat_minor": 2
}
