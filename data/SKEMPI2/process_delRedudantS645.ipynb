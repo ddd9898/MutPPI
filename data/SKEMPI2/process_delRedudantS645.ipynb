{
 "cells": [
  {
   "cell_type": "code",
   "execution_count": 1,
   "id": "4dd56481",
   "metadata": {},
   "outputs": [],
   "source": [
    "'''\n",
    "删除S645中在S4169里出现过的数据\n",
    "'''\n",
    "import pandas as pd\n",
    "import numpy as np\n",
    "\n",
    "data_name = 'AB_645'\n",
    "\n",
    "data = pd.read_csv('./AB-Bind-Database/{}.csv'.format(data_name)).values.tolist()\n",
    "base_data = pd.read_csv('./S4169.csv').values.tolist()\n",
    "\n",
    "\n",
    "base_dict = dict()\n",
    "base_dict_reverse = dict()\n",
    "for item in base_data:\n",
    "    pdb_name = item[0]\n",
    "    mutChain_mutation = item[4]\n",
    "    ddg_abs = np.abs(float(item[5]))\n",
    "\n",
    "    mutChain, mutation = mutChain_mutation.split(':')\n",
    "    src_aa = mutation[0]\n",
    "    pos = mutation[1:-1]\n",
    "    tgt_aa = mutation[-1]\n",
    "\n",
    "    key = '{}:{}_{}'.format(pdb_name, src_aa, tgt_aa)\n",
    "    base_dict[key] = ddg_abs\n",
    "\n",
    "    key = '{}:{}_{}'.format(pdb_name, tgt_aa, src_aa)\n",
    "    base_dict_reverse[key] = ddg_abs\n",
    "\n",
    "\n",
    "\n",
    "data_fix = list()\n",
    "for item in data:\n",
    "    pdb_name = item[0]\n",
    "    mutChain_mutation = item[4]\n",
    "    ddg_abs = np.abs(float(item[5]))\n",
    "    mut_chain, mutation = mutChain_mutation.split(':')\n",
    "    src_aa = mutation[0]\n",
    "    pos = mutation[1:-1]\n",
    "    tgt_aa = mutation[-1]\n",
    "\n",
    "    key = '{}:{}_{}'.format(pdb_name, src_aa, tgt_aa)\n",
    "    if key in base_dict.keys() and np.abs(base_dict[key] - ddg_abs) < 0.05:\n",
    "        data_fix.append(item + [0])\n",
    "    elif key in base_dict_reverse.keys() and np.abs(base_dict_reverse[key] - ddg_abs) < 0.05:\n",
    "        data_fix.append(item + [0])\n",
    "    else:\n",
    "        data_fix.append(item + [1])\n",
    "\n",
    "df = pd.DataFrame(data_fix)\n",
    "df.columns = list(pd.read_csv('./AB-Bind-Database/{}.csv'.format(data_name)).columns) + ['not_redundant']\n",
    "df.to_csv('./{}_delRedudant.csv'.format(data_name), index=False)\n"
   ]
  }
 ],
 "metadata": {
  "kernelspec": {
   "display_name": "Python 3",
   "language": "python",
   "name": "python3"
  },
  "language_info": {
   "codemirror_mode": {
    "name": "ipython",
    "version": 3
   },
   "file_extension": ".py",
   "mimetype": "text/x-python",
   "name": "python",
   "nbconvert_exporter": "python",
   "pygments_lexer": "ipython3",
   "version": "3.10.17"
  }
 },
 "nbformat": 4,
 "nbformat_minor": 5
}
