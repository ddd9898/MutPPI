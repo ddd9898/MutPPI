{
 "cells": [
  {
   "cell_type": "code",
   "execution_count": 1,
   "id": "0b984351",
   "metadata": {},
   "outputs": [],
   "source": [
    "import pandas as pd\n",
    "import numpy as np\n",
    "from scipy.stats import pearsonr"
   ]
  },
  {
   "cell_type": "code",
   "execution_count": 2,
   "id": "af7738bd",
   "metadata": {},
   "outputs": [],
   "source": [
    "CV_S645_Graphinity = {'no':[],'100':[],'90':[],'70':[]}"
   ]
  },
  {
   "cell_type": "code",
   "execution_count": 3,
   "id": "b9869199",
   "metadata": {},
   "outputs": [
    {
     "name": "stdout",
     "output_type": "stream",
     "text": [
      "Fold 0: pearsonr: r_row=0.9417674964780031, p_value=1.3002485484692704e-29\n",
      "Fold 1: pearsonr: r_row=0.6488524649503719, p_value=1.556060094273585e-08\n",
      "Fold 2: pearsonr: r_row=0.7637598715379835, p_value=1.3690554150657738e-13\n",
      "Fold 3: pearsonr: r_row=0.8755698614815294, p_value=2.6790243689111294e-20\n",
      "Fold 4: pearsonr: r_row=0.893161285702296, p_value=4.2913332702223595e-28\n",
      "Fold 5: pearsonr: r_row=0.9216512712629716, p_value=2.983840775448588e-29\n",
      "Fold 6: pearsonr: r_row=0.8945988892871567, p_value=2.0061424575295113e-24\n",
      "Fold 7: pearsonr: r_row=0.9295298881824352, p_value=2.2708733331412567e-26\n",
      "Fold 8: pearsonr: r_row=0.9317865387673817, p_value=5.602198173088099e-29\n",
      "Fold 9: pearsonr: r_row=0.7688202920224136, p_value=7.328634666977759e-13\n",
      "0.8569497859672544\n"
     ]
    }
   ],
   "source": [
    "for fold in range(10):\n",
    "    data = pd.read_csv('with_reverse_mutations_with_non_binders/ddG_645-w_rev_muts_w_non_binders-random-fold{}.csv'.format(fold)).values.tolist()\n",
    "    pre_list = list()\n",
    "    gt_list = list()\n",
    "\n",
    "    for i in range(len(data)):\n",
    "        pre_list.append(data[i][2])\n",
    "        gt_list.append(data[i][3])\n",
    "\n",
    "    pre_array = np.array(pre_list)\n",
    "    gt_array = np.array(gt_list)\n",
    "\n",
    "    r_row,p_value = pearsonr(gt_array,pre_array)\n",
    "    print('Fold {}: pearsonr: r_row={}, p_value={}'.format(fold, r_row, p_value))\n",
    "\n",
    "    CV_S645_Graphinity['no'].append(r_row)\n",
    "\n",
    "print(np.mean(CV_S645_Graphinity['no']))"
   ]
  },
  {
   "cell_type": "code",
   "execution_count": 4,
   "id": "80857436",
   "metadata": {},
   "outputs": [
    {
     "name": "stdout",
     "output_type": "stream",
     "text": [
      "Fold 0: pearsonr: r_row=0.006661188676178485, p_value=0.9771386312697862\n",
      "Fold 1: pearsonr: r_row=0.38699866968766305, p_value=0.0006038049116586396\n",
      "Fold 2: pearsonr: r_row=0.19687398528002958, p_value=0.08405572206119073\n",
      "Fold 3: pearsonr: r_row=0.0988794444202631, p_value=0.3954307583179031\n",
      "Fold 4: pearsonr: r_row=0.42772668388864593, p_value=0.000246480341572338\n",
      "Fold 5: pearsonr: r_row=0.6906121728299685, p_value=8.149598696317004e-07\n",
      "Fold 6: pearsonr: r_row=-0.18059810949238106, p_value=0.057853250177557373\n",
      "Fold 7: pearsonr: r_row=0.32739107020068847, p_value=0.054881451500823755\n",
      "Fold 8: pearsonr: r_row=0.48860885871713533, p_value=8.626919935433341e-05\n",
      "Fold 9: pearsonr: r_row=0.1919017761871796, p_value=0.08611404816942916\n",
      "0.26350557403953706\n"
     ]
    }
   ],
   "source": [
    "homology_threshold = 100\n",
    "\n",
    "for fold in range(10):\n",
    "    data = pd.read_csv('with_reverse_mutations_with_non_binders/ddG_645-w_rev_muts_w_non_binders-cutoff_{}-fold{}.csv'.format(homology_threshold, fold)).values.tolist()\n",
    "    pre_list = list()\n",
    "    gt_list = list()\n",
    "\n",
    "    for i in range(len(data)):\n",
    "        pre_list.append(data[i][2])\n",
    "        gt_list.append(data[i][3])\n",
    "\n",
    "    pre_array = np.array(pre_list)\n",
    "    gt_array = np.array(gt_list)\n",
    "\n",
    "    r_row,p_value = pearsonr(gt_array,pre_array)\n",
    "    print('Fold {}: pearsonr: r_row={}, p_value={}'.format(fold, r_row, p_value))\n",
    "\n",
    "    CV_S645_Graphinity['100'].append(r_row)\n",
    "\n",
    "print(np.mean(CV_S645_Graphinity['100']))"
   ]
  },
  {
   "cell_type": "code",
   "execution_count": 5,
   "id": "9b323583",
   "metadata": {},
   "outputs": [
    {
     "name": "stdout",
     "output_type": "stream",
     "text": [
      "Fold 0: pearsonr: r_row=0.3526211696545729, p_value=0.0007530346947262122\n",
      "Fold 1: pearsonr: r_row=0.1121519454122021, p_value=0.628381506547681\n",
      "Fold 2: pearsonr: r_row=-0.33619352509410977, p_value=0.025664848333875293\n",
      "Fold 3: pearsonr: r_row=0.41383279290958247, p_value=0.002813483610104971\n",
      "Fold 4: pearsonr: r_row=0.2397536438548464, p_value=0.01522168559773441\n",
      "Fold 5: pearsonr: r_row=-0.3066405947765687, p_value=0.0013885963312066704\n",
      "Fold 6: pearsonr: r_row=0.0449614535266511, p_value=0.6958892359174527\n",
      "Fold 7: pearsonr: r_row=0.7358058901507023, p_value=1.5977292765890452e-06\n",
      "Fold 8: pearsonr: r_row=0.2927977663331171, p_value=0.10388943319308305\n",
      "Fold 9: pearsonr: r_row=0.29941546672676406, p_value=0.0037380962338789633\n",
      "0.18485060086977603\n"
     ]
    }
   ],
   "source": [
    "homology_threshold = 90\n",
    "\n",
    "for fold in range(10):\n",
    "    data = pd.read_csv('with_reverse_mutations_with_non_binders/ddG_645-w_rev_muts_w_non_binders-cutoff_{}-fold{}.csv'.format(homology_threshold, fold)).values.tolist()\n",
    "    pre_list = list()\n",
    "    gt_list = list()\n",
    "\n",
    "    for i in range(len(data)):\n",
    "        pre_list.append(data[i][2])\n",
    "        gt_list.append(data[i][3])\n",
    "\n",
    "    pre_array = np.array(pre_list)\n",
    "    gt_array = np.array(gt_list)\n",
    "\n",
    "    r_row,p_value = pearsonr(gt_array,pre_array)\n",
    "    print('Fold {}: pearsonr: r_row={}, p_value={}'.format(fold, r_row, p_value))\n",
    "\n",
    "    CV_S645_Graphinity['90'].append(r_row)\n",
    "\n",
    "print(np.mean(CV_S645_Graphinity['90']))\n",
    "    "
   ]
  },
  {
   "cell_type": "code",
   "execution_count": 6,
   "id": "28ea2804",
   "metadata": {},
   "outputs": [
    {
     "name": "stdout",
     "output_type": "stream",
     "text": [
      "Fold 0: pearsonr: r_row=0.2404503681961529, p_value=0.02403374442066026\n",
      "Fold 1: pearsonr: r_row=-0.16600388165106342, p_value=0.31921821423702373\n",
      "Fold 2: pearsonr: r_row=-0.0946645929680484, p_value=0.5410461163309265\n",
      "Fold 3: pearsonr: r_row=0.2769758820436763, p_value=0.016893613731644844\n",
      "Fold 4: pearsonr: r_row=0.41032527895611265, p_value=0.00021028997838310452\n",
      "Fold 5: pearsonr: r_row=0.3130745937859319, p_value=0.09207242026771723\n",
      "Fold 6: pearsonr: r_row=0.2828041772888781, p_value=0.009146025869347114\n",
      "Fold 7: pearsonr: r_row=0.2307386781464093, p_value=0.1146022871099496\n",
      "Fold 8: pearsonr: r_row=-0.21874625247179882, p_value=0.04976858691428712\n",
      "Fold 9: pearsonr: r_row=0.11652899990022815, p_value=0.3002045859960575\n",
      "0.13914832512264785\n"
     ]
    }
   ],
   "source": [
    "homology_threshold = 70\n",
    "\n",
    "for fold in range(10):\n",
    "    data = pd.read_csv('with_reverse_mutations_with_non_binders/ddG_645-w_rev_muts_w_non_binders-cutoff_{}-fold{}.csv'.format(homology_threshold, fold)).values.tolist()\n",
    "    pre_list = list()\n",
    "    gt_list = list()\n",
    "\n",
    "    for i in range(len(data)):\n",
    "        pre_list.append(data[i][2])\n",
    "        gt_list.append(data[i][3])\n",
    "\n",
    "    pre_array = np.array(pre_list)\n",
    "    gt_array = np.array(gt_list)\n",
    "\n",
    "    r_row,p_value = pearsonr(gt_array,pre_array)\n",
    "    print('Fold {}: pearsonr: r_row={}, p_value={}'.format(fold, r_row, p_value))\n",
    "\n",
    "    CV_S645_Graphinity['70'].append(r_row)\n",
    "\n",
    "print(np.mean(CV_S645_Graphinity['70']))"
   ]
  },
  {
   "cell_type": "code",
   "execution_count": 7,
   "id": "5abc013e",
   "metadata": {},
   "outputs": [
    {
     "name": "stdout",
     "output_type": "stream",
     "text": [
      "[0.9417674964780031, 0.6488524649503719, 0.7637598715379835, 0.8755698614815294, 0.893161285702296, 0.9216512712629716, 0.8945988892871567, 0.9295298881824352, 0.9317865387673817, 0.7688202920224136]\n"
     ]
    }
   ],
   "source": [
    "print(CV_S645_Graphinity['no'])"
   ]
  },
  {
   "cell_type": "code",
   "execution_count": 8,
   "id": "35940c5e",
   "metadata": {},
   "outputs": [
    {
     "name": "stdout",
     "output_type": "stream",
     "text": [
      "[0.006661188676178485, 0.38699866968766305, 0.19687398528002958, 0.0988794444202631, 0.42772668388864593, 0.6906121728299685, -0.18059810949238106, 0.32739107020068847, 0.48860885871713533, 0.1919017761871796]\n"
     ]
    }
   ],
   "source": [
    "print(CV_S645_Graphinity['100'])"
   ]
  },
  {
   "cell_type": "code",
   "execution_count": 9,
   "id": "d0d6a8e8",
   "metadata": {},
   "outputs": [
    {
     "name": "stdout",
     "output_type": "stream",
     "text": [
      "[0.3526211696545729, 0.1121519454122021, -0.33619352509410977, 0.41383279290958247, 0.2397536438548464, -0.3066405947765687, 0.0449614535266511, 0.7358058901507023, 0.2927977663331171, 0.29941546672676406]\n"
     ]
    }
   ],
   "source": [
    "print(CV_S645_Graphinity['90'])"
   ]
  },
  {
   "cell_type": "code",
   "execution_count": 10,
   "id": "aa1349c7",
   "metadata": {},
   "outputs": [
    {
     "name": "stdout",
     "output_type": "stream",
     "text": [
      "[0.2404503681961529, -0.16600388165106342, -0.0946645929680484, 0.2769758820436763, 0.41032527895611265, 0.3130745937859319, 0.2828041772888781, 0.2307386781464093, -0.21874625247179882, 0.11652899990022815]\n"
     ]
    }
   ],
   "source": [
    "print(CV_S645_Graphinity['70'])"
   ]
  },
  {
   "cell_type": "markdown",
   "id": "54d5ef1d",
   "metadata": {},
   "source": [
    "## 测试一下with reverse + no binder"
   ]
  },
  {
   "cell_type": "code",
   "execution_count": 11,
   "id": "13936f67",
   "metadata": {},
   "outputs": [
    {
     "name": "stdout",
     "output_type": "stream",
     "text": [
      "0.8719386330479459\n",
      "0.240620718012528\n",
      "0.3168163439148318\n",
      "0.13950684850937103\n"
     ]
    }
   ],
   "source": [
    "CV_S645_Graphinity = {'no':[],'100':[],'90':[],'70':[]}\n",
    "for fold in range(10):\n",
    "    data = pd.read_csv('with_reverse_mutations_no_non_binders/ddG_645-w_rev_muts_no_non_binders-random-fold{}.csv'.format(fold)).values.tolist()\n",
    "    pre_list = list()\n",
    "    gt_list = list()\n",
    "\n",
    "    for i in range(len(data)):\n",
    "        pre_list.append(data[i][2])\n",
    "        gt_list.append(data[i][3])\n",
    "\n",
    "    pre_array = np.array(pre_list)\n",
    "    gt_array = np.array(gt_list)\n",
    "\n",
    "    r_row,p_value = pearsonr(gt_array,pre_array)\n",
    "    # print('Fold {}: pearsonr: r_row={}, p_value={}'.format(fold, r_row, p_value))\n",
    "\n",
    "    CV_S645_Graphinity['no'].append(r_row)\n",
    "\n",
    "print(np.mean(CV_S645_Graphinity['no']))\n",
    "\n",
    "\n",
    "homology_threshold = 100\n",
    "for fold in range(10):\n",
    "    data = pd.read_csv('with_reverse_mutations_no_non_binders/ddG_645-w_rev_muts_no_non_binders-cutoff_{}-fold{}.csv'.format(homology_threshold, fold)).values.tolist()\n",
    "    pre_list = list()\n",
    "    gt_list = list()\n",
    "\n",
    "    for i in range(len(data)):\n",
    "        pre_list.append(data[i][2])\n",
    "        gt_list.append(data[i][3])\n",
    "\n",
    "    pre_array = np.array(pre_list)\n",
    "    gt_array = np.array(gt_list)\n",
    "\n",
    "    r_row,p_value = pearsonr(gt_array,pre_array)\n",
    "    # print('Fold {}: pearsonr: r_row={}, p_value={}'.format(fold, r_row, p_value))\n",
    "\n",
    "    CV_S645_Graphinity['100'].append(r_row)\n",
    "\n",
    "print(np.mean(CV_S645_Graphinity['100']))\n",
    "\n",
    "\n",
    "\n",
    "homology_threshold = 90\n",
    "for fold in range(10):\n",
    "    data = pd.read_csv('with_reverse_mutations_no_non_binders/ddG_645-w_rev_muts_no_non_binders-cutoff_{}-fold{}.csv'.format(homology_threshold, fold)).values.tolist()\n",
    "    pre_list = list()\n",
    "    gt_list = list()\n",
    "\n",
    "    for i in range(len(data)):\n",
    "        pre_list.append(data[i][2])\n",
    "        gt_list.append(data[i][3])\n",
    "\n",
    "    pre_array = np.array(pre_list)\n",
    "    gt_array = np.array(gt_list)\n",
    "\n",
    "    r_row,p_value = pearsonr(gt_array,pre_array)\n",
    "    # print('Fold {}: pearsonr: r_row={}, p_value={}'.format(fold, r_row, p_value))\n",
    "\n",
    "    CV_S645_Graphinity['90'].append(r_row)\n",
    "\n",
    "print(np.mean(CV_S645_Graphinity['90']))\n",
    "\n",
    "\n",
    "\n",
    "homology_threshold = 70\n",
    "for fold in range(10):\n",
    "    data = pd.read_csv('with_reverse_mutations_no_non_binders/ddG_645-w_rev_muts_no_non_binders-cutoff_{}-fold{}.csv'.format(homology_threshold, fold)).values.tolist()\n",
    "    pre_list = list()\n",
    "    gt_list = list()\n",
    "\n",
    "    for i in range(len(data)):\n",
    "        pre_list.append(data[i][2])\n",
    "        gt_list.append(data[i][3])\n",
    "\n",
    "    pre_array = np.array(pre_list)\n",
    "    gt_array = np.array(gt_list)\n",
    "\n",
    "    r_row,p_value = pearsonr(gt_array,pre_array)\n",
    "    # print('Fold {}: pearsonr: r_row={}, p_value={}'.format(fold, r_row, p_value))\n",
    "\n",
    "    CV_S645_Graphinity['70'].append(r_row)\n",
    "\n",
    "print(np.mean(CV_S645_Graphinity['70']))"
   ]
  }
 ],
 "metadata": {
  "kernelspec": {
   "display_name": "Python 3",
   "language": "python",
   "name": "python3"
  },
  "language_info": {
   "codemirror_mode": {
    "name": "ipython",
    "version": 3
   },
   "file_extension": ".py",
   "mimetype": "text/x-python",
   "name": "python",
   "nbconvert_exporter": "python",
   "pygments_lexer": "ipython3",
   "version": "3.9.19"
  }
 },
 "nbformat": 4,
 "nbformat_minor": 5
}
