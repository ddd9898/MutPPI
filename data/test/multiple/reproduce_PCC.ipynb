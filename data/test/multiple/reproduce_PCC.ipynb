{
 "cells": [
  {
   "cell_type": "code",
   "execution_count": 1,
   "metadata": {},
   "outputs": [],
   "source": [
    "import numpy as np\n",
    "import pandas as pd"
   ]
  },
  {
   "cell_type": "code",
   "execution_count": 2,
   "metadata": {},
   "outputs": [],
   "source": [
    "from scipy.stats import pearsonr,spearmanr,kendalltau\n",
    "import numpy as np\n",
    "from sklearn.metrics import mean_squared_error\n",
    "\n",
    "# Pearson\tKendall\tRMSE\n",
    "import numpy as np\n",
    "\n",
    "def evaluate(GT,Pre):\n",
    "    GT = np.array(GT)\n",
    "    Pre = np.array(Pre)\n",
    "    \n",
    "    Pearson_value,p_value = pearsonr(GT,Pre)\n",
    "    # print('pearsonr: r_row={}, p_value={}'.format(Pearson_value, p_value))\n",
    "    \n",
    "    Kendall_value,p_value = kendalltau(GT,Pre)\n",
    "    # print('kendalltau: r_row={}, p_value={}'.format(Kendall_value, p_value))\n",
    "    \n",
    "    mse = mean_squared_error(GT,Pre)\n",
    "    rmse=np.sqrt(mse)\n",
    "\n",
    "    \n",
    "    return Pearson_value, Kendall_value, rmse\n",
    " \n"
   ]
  },
  {
   "cell_type": "code",
   "execution_count": 3,
   "metadata": {},
   "outputs": [
    {
     "name": "stdout",
     "output_type": "stream",
     "text": [
      "Datasize: 270\n",
      "DDMut-PPI:Pearson_value=0.7234477033382045, Kendall_value=0.568141299324424, rmse=2.0371099443914553, mae=1.4768193933814815\n",
      "mmCSM_PPI:Pearson_value=0.7391793775990058, Kendall_value=0.5705066363075005, rmse=1.71520477127584, mae=1.3\n"
     ]
    }
   ],
   "source": [
    "dataname = 'SM_ZEMu'\n",
    "# dataname = 'SM595'\n",
    "# dataname = 'SM1124'\n",
    "\n",
    "data = pd.read_csv('./{}.csv'.format(dataname)).values.tolist() \n",
    "gt_list = []\n",
    "pre_list = []\n",
    "pre_mmCSM_PPI_list = []\n",
    "for item in data:\n",
    "    ddg = item[3]\n",
    "    pre_DDMut_PPI = item[6]\n",
    "    pre_mmCSM_PPI = item[4]\n",
    "    \n",
    "    gt_list.append(ddg)\n",
    "    pre_list.append(pre_DDMut_PPI)\n",
    "    pre_mmCSM_PPI_list.append(pre_mmCSM_PPI)\n",
    "print(\"Datasize: {}\".format(len(gt_list)))\n",
    "\n",
    "from sklearn.metrics import mean_absolute_error\n",
    "\n",
    "Pearson_value, Kendall_value, rmse = evaluate(gt_list, pre_list)\n",
    "mae = mean_absolute_error(gt_list, pre_list)\n",
    "print(\"DDMut-PPI:Pearson_value={}, Kendall_value={}, rmse={}, mae={}\".format(Pearson_value, Kendall_value, rmse, mae))\n",
    "\n",
    "Pearson_value, Kendall_value, rmse = evaluate(gt_list, pre_mmCSM_PPI_list)\n",
    "mae = mean_absolute_error(gt_list, pre_mmCSM_PPI_list)\n",
    "print(\"mmCSM_PPI:Pearson_value={}, Kendall_value={}, rmse={}, mae={}\".format(Pearson_value, Kendall_value, rmse, mae))"
   ]
  },
  {
   "cell_type": "code",
   "execution_count": 4,
   "metadata": {},
   "outputs": [
    {
     "name": "stdout",
     "output_type": "stream",
     "text": [
      "Datasize: 595\n",
      "DDMut-PPI:Pearson_value=0.7130149351340641, Kendall_value=0.5188293246763078, rmse=2.5563184467318223, mae=1.848914848605042\n",
      "mmCSM_PPI:Pearson_value=0.6870074023336388, Kendall_value=0.4729052612961604, rmse=2.0592848966848387, mae=1.5073781512605042\n"
     ]
    }
   ],
   "source": [
    "# dataname = 'SM_ZEMu'\n",
    "dataname = 'SM595'\n",
    "# dataname = 'SM1124'\n",
    "\n",
    "data = pd.read_csv('./{}.csv'.format(dataname)).values.tolist() \n",
    "gt_list = list()\n",
    "pre_list = list()\n",
    "pre_mmCSM_PPI_list = list()\n",
    "for item in data:\n",
    "    ddg = item[3]\n",
    "    pre_DDMut_PPI = item[7]\n",
    "    pre_mmCSM_PPI = item[4]\n",
    "    \n",
    "    gt_list.append(ddg)\n",
    "    pre_list.append(pre_DDMut_PPI)\n",
    "    pre_mmCSM_PPI_list.append(pre_mmCSM_PPI)\n",
    "print(\"Datasize: {}\".format(len(gt_list)))\n",
    "\n",
    "from sklearn.metrics import mean_absolute_error\n",
    "\n",
    "Pearson_value, Kendall_value, rmse = evaluate(gt_list, pre_list)\n",
    "mae = mean_absolute_error(gt_list, pre_list)\n",
    "print(\"DDMut-PPI:Pearson_value={}, Kendall_value={}, rmse={}, mae={}\".format(Pearson_value, Kendall_value, rmse, mae))\n",
    "\n",
    "Pearson_value, Kendall_value, rmse = evaluate(gt_list, pre_mmCSM_PPI_list)\n",
    "mae = mean_absolute_error(gt_list, pre_mmCSM_PPI_list)\n",
    "print(\"mmCSM_PPI:Pearson_value={}, Kendall_value={}, rmse={}, mae={}\".format(Pearson_value, Kendall_value, rmse, mae))"
   ]
  },
  {
   "cell_type": "code",
   "execution_count": 5,
   "metadata": {},
   "outputs": [
    {
     "name": "stdout",
     "output_type": "stream",
     "text": [
      "Datasize: 1124\n",
      "DDMut-PPI:Pearson_value=0.831022463384465, Kendall_value=0.6054608887834594, rmse=1.510341399904569, mae=1.125388074477758\n",
      "mmCSM_PPI:Pearson_value=0.7815706865634987, Kendall_value=0.5957790170887821, rmse=1.58475773147204, mae=1.1645335278647688\n"
     ]
    }
   ],
   "source": [
    "# dataname = 'SM_ZEMu'\n",
    "# dataname = 'SM595'\n",
    "dataname = 'SM1124'\n",
    "\n",
    "data = pd.read_csv('./{}.csv'.format(dataname)).values.tolist() \n",
    "gt_list = list()\n",
    "pre_list = list()\n",
    "pre_mmCSM_PPI_list = list()\n",
    "for item in data:\n",
    "    ddg = item[3]\n",
    "    pre_DDMut_PPI = item[5]\n",
    "    pre_mmCSM_PPI = item[4]\n",
    "    \n",
    "    gt_list.append(ddg)\n",
    "    pre_list.append(pre_DDMut_PPI)\n",
    "    pre_mmCSM_PPI_list.append(pre_mmCSM_PPI)\n",
    "print(\"Datasize: {}\".format(len(gt_list)))\n",
    "\n",
    "from sklearn.metrics import mean_absolute_error\n",
    "\n",
    "Pearson_value, Kendall_value, rmse = evaluate(gt_list, pre_list)\n",
    "mae = mean_absolute_error(gt_list, pre_list)\n",
    "print(\"DDMut-PPI:Pearson_value={}, Kendall_value={}, rmse={}, mae={}\".format(Pearson_value, Kendall_value, rmse, mae))\n",
    "\n",
    "Pearson_value, Kendall_value, rmse = evaluate(gt_list, pre_mmCSM_PPI_list)\n",
    "mae = mean_absolute_error(gt_list, pre_mmCSM_PPI_list)\n",
    "print(\"mmCSM_PPI:Pearson_value={}, Kendall_value={}, rmse={}, mae={}\".format(Pearson_value, Kendall_value, rmse, mae))"
   ]
  },
  {
   "cell_type": "markdown",
   "metadata": {},
   "source": [
    "## 去掉有renum的样本"
   ]
  },
  {
   "cell_type": "code",
   "execution_count": 6,
   "metadata": {},
   "outputs": [
    {
     "name": "stdout",
     "output_type": "stream",
     "text": [
      "Datasize: 269\n",
      "DDMut-PPI:Pearson_value=0.7229218299590674, Kendall_value=0.5671925557185281, rmse=2.040876691318999, mae=1.481813777743494\n",
      "mmCSM_PPI:Pearson_value=0.7380626741874872, Kendall_value=0.5691501968607201, rmse=1.7171969681749655, mae=1.3009293680297398\n"
     ]
    }
   ],
   "source": [
    "dataname = 'SM_ZEMu'\n",
    "# dataname = 'SM595'\n",
    "# dataname = 'SM1124'\n",
    "\n",
    "data = pd.read_csv('./{}.csv'.format(dataname)).values.tolist() \n",
    "gt_list = list()\n",
    "pre_list = list()\n",
    "pre_mmCSM_PPI_list = list()\n",
    "for item in data:\n",
    "    pdb_name = item[0]\n",
    "    if 'renum' in pdb_name:\n",
    "        continue\n",
    "    ddg = item[3]\n",
    "    pre_DDMut_PPI = item[6]\n",
    "    pre_mmCSM_PPI = item[4]\n",
    "    \n",
    "    gt_list.append(ddg)\n",
    "    pre_list.append(pre_DDMut_PPI)\n",
    "    pre_mmCSM_PPI_list.append(pre_mmCSM_PPI)\n",
    "print(\"Datasize: {}\".format(len(gt_list)))\n",
    "\n",
    "from sklearn.metrics import mean_absolute_error\n",
    "\n",
    "Pearson_value, Kendall_value, rmse = evaluate(gt_list, pre_list)\n",
    "mae = mean_absolute_error(gt_list, pre_list)\n",
    "print(\"DDMut-PPI:Pearson_value={}, Kendall_value={}, rmse={}, mae={}\".format(Pearson_value, Kendall_value, rmse, mae))\n",
    "\n",
    "Pearson_value, Kendall_value, rmse = evaluate(gt_list, pre_mmCSM_PPI_list)\n",
    "mae = mean_absolute_error(gt_list, pre_mmCSM_PPI_list)\n",
    "print(\"mmCSM_PPI:Pearson_value={}, Kendall_value={}, rmse={}, mae={}\".format(Pearson_value, Kendall_value, rmse, mae))"
   ]
  },
  {
   "cell_type": "code",
   "execution_count": 7,
   "metadata": {},
   "outputs": [
    {
     "name": "stdout",
     "output_type": "stream",
     "text": [
      "Datasize: 584\n",
      "DDMut-PPI:Pearson_value=0.7209648491678877, Kendall_value=0.5287349915389742, rmse=2.500277347802721, mae=1.8061487789726027\n",
      "mmCSM_PPI:Pearson_value=0.706945235348174, Kendall_value=0.4936583374592972, rmse=1.9888977380269623, mae=1.459914383561644\n"
     ]
    }
   ],
   "source": [
    "# dataname = 'SM_ZEMu'\n",
    "dataname = 'SM595'\n",
    "# dataname = 'SM1124'\n",
    "\n",
    "data = pd.read_csv('./{}.csv'.format(dataname)).values.tolist() \n",
    "gt_list = list()\n",
    "pre_list = list()\n",
    "pre_mmCSM_PPI_list = list()\n",
    "for item in data:\n",
    "    pdb_name = item[0]\n",
    "    if 'renum' in pdb_name:\n",
    "        continue\n",
    "    ddg = item[3]\n",
    "    pre_DDMut_PPI = item[7]\n",
    "    pre_mmCSM_PPI = item[4]\n",
    "    \n",
    "    gt_list.append(ddg)\n",
    "    pre_list.append(pre_DDMut_PPI)\n",
    "    pre_mmCSM_PPI_list.append(pre_mmCSM_PPI)\n",
    "print(\"Datasize: {}\".format(len(gt_list)))\n",
    "\n",
    "from sklearn.metrics import mean_absolute_error\n",
    "\n",
    "Pearson_value, Kendall_value, rmse = evaluate(gt_list, pre_list)\n",
    "mae = mean_absolute_error(gt_list, pre_list)\n",
    "print(\"DDMut-PPI:Pearson_value={}, Kendall_value={}, rmse={}, mae={}\".format(Pearson_value, Kendall_value, rmse, mae))\n",
    "\n",
    "Pearson_value, Kendall_value, rmse = evaluate(gt_list, pre_mmCSM_PPI_list)\n",
    "mae = mean_absolute_error(gt_list, pre_mmCSM_PPI_list)\n",
    "print(\"mmCSM_PPI:Pearson_value={}, Kendall_value={}, rmse={}, mae={}\".format(Pearson_value, Kendall_value, rmse, mae))"
   ]
  },
  {
   "cell_type": "code",
   "execution_count": 8,
   "metadata": {},
   "outputs": [
    {
     "name": "stdout",
     "output_type": "stream",
     "text": [
      "Datasize: 1123\n",
      "DDMut-PPI:Pearson_value=0.8308941983024168, Kendall_value=0.6050146993830012, rmse=1.5110082585462756, mae=1.126269096805877\n",
      "mmCSM_PPI:Pearson_value=0.7816040261346006, Kendall_value=0.5954529143423637, rmse=1.584663435055294, mae=1.1640679922707033\n"
     ]
    }
   ],
   "source": [
    "# dataname = 'SM_ZEMu'\n",
    "# dataname = 'SM595'\n",
    "dataname = 'SM1124'\n",
    "\n",
    "data = pd.read_csv('./{}.csv'.format(dataname)).values.tolist() \n",
    "gt_list = list()\n",
    "pre_list = list()\n",
    "pre_mmCSM_PPI_list = list()\n",
    "for item in data:\n",
    "    pdb_name = item[0]\n",
    "    if 'renum' in pdb_name:\n",
    "        continue\n",
    "    ddg = item[3]\n",
    "    pre_DDMut_PPI = item[5]\n",
    "    pre_mmCSM_PPI = item[4]\n",
    "    \n",
    "    gt_list.append(ddg)\n",
    "    pre_list.append(pre_DDMut_PPI)\n",
    "    pre_mmCSM_PPI_list.append(pre_mmCSM_PPI)\n",
    "print(\"Datasize: {}\".format(len(gt_list)))\n",
    "\n",
    "from sklearn.metrics import mean_absolute_error\n",
    "\n",
    "Pearson_value, Kendall_value, rmse = evaluate(gt_list, pre_list)\n",
    "mae = mean_absolute_error(gt_list, pre_list)\n",
    "print(\"DDMut-PPI:Pearson_value={}, Kendall_value={}, rmse={}, mae={}\".format(Pearson_value, Kendall_value, rmse, mae))\n",
    "\n",
    "Pearson_value, Kendall_value, rmse = evaluate(gt_list, pre_mmCSM_PPI_list)\n",
    "mae = mean_absolute_error(gt_list, pre_mmCSM_PPI_list)\n",
    "print(\"mmCSM_PPI:Pearson_value={}, Kendall_value={}, rmse={}, mae={}\".format(Pearson_value, Kendall_value, rmse, mae))"
   ]
  }
 ],
 "metadata": {
  "kernelspec": {
   "display_name": "Python 3",
   "language": "python",
   "name": "python3"
  },
  "language_info": {
   "codemirror_mode": {
    "name": "ipython",
    "version": 3
   },
   "file_extension": ".py",
   "mimetype": "text/x-python",
   "name": "python",
   "nbconvert_exporter": "python",
   "pygments_lexer": "ipython3",
   "version": "3.9.19"
  }
 },
 "nbformat": 4,
 "nbformat_minor": 2
}
