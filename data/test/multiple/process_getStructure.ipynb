{
 "cells": [
  {
   "cell_type": "code",
   "execution_count": 1,
   "metadata": {},
   "outputs": [],
   "source": [
    "import os\n",
    "import sys\n",
    "import  urllib.request\n",
    "import pandas as pd\n",
    "from tqdm import tqdm\n",
    "import numpy as np\n",
    "from pymol import *"
   ]
  },
  {
   "cell_type": "code",
   "execution_count": 2,
   "metadata": {},
   "outputs": [],
   "source": [
    "aa_dict = {'GLY':'G','ALA' :'A','VAL': 'V','LEU': 'L','ILE': 'I','PRO': 'P','PHE' :'F','TYR' :'Y','TRP' :'W',\n",
    "'SER' :'S','THR': 'T','CYS': 'C','MET': 'M','ASN': 'N','GLN' :'Q','ASP': 'D', 'GLU' :'E','LYS' :'K','ARG' :'R', 'HIS' :'H',\n",
    "'NAG':'X', 'DG':'X','DT':'X','DC':'X','DA':'X','UNK':'X',\n",
    "'GLX':'X'}"
   ]
  },
  {
   "cell_type": "code",
   "execution_count": 3,
   "metadata": {},
   "outputs": [],
   "source": [
    "\n",
    "def get_chain_ca_coordinates(pdb_path, chain_id):\n",
    "    \"\"\"\n",
    "    获取指定链上的所有氨基酸残基的 Cα（alpha-carbon）坐标\n",
    "    \"\"\"\n",
    "\n",
    "    cmd.delete('all')\n",
    "    # cmd.load('./data/PDBs/{}.pdb'.format(pdb_name))\n",
    "    cmd.load(pdb_path)\n",
    "    cmd.remove('solvent')\n",
    "    cmd.remove('hetatm')\n",
    "\n",
    "    pos_dict = dict()  # 临时存储数据\n",
    "    model = cmd.get_model(f\"chain {chain_id} and name CA\")  # 获取 Cα 原子数据\n",
    "    for atom in model.atom:\n",
    "        resn = atom.resn   # 残基名称\n",
    "        resi = atom.resi   # 残基编号\n",
    "        x, y, z = atom.coord  # Cα 原子的坐标\n",
    "        # stored_list.append([resn, resi, x, y, z])\n",
    "\n",
    "        ID = '{}-{}'.format(resi, aa_dict[resn])\n",
    "        pos = [x, y, z]\n",
    "        pos_dict[ID] = pos\n",
    "\n",
    "    return pos_dict\n",
    "\n"
   ]
  },
  {
   "cell_type": "code",
   "execution_count": 4,
   "metadata": {},
   "outputs": [],
   "source": [
    "##biounit chains\n",
    "biounit_chains_dict = dict()\n",
    "tempdata = pd.read_csv('../../SKEMPI2/S4169.csv').values.tolist()\n",
    "for item in tempdata:\n",
    "    pdb_name = item[0]\n",
    "    biounit_chains = list(item[1].replace('_',''))\n",
    "    biounit_chains_dict[pdb_name] = biounit_chains\n",
    "biounit_chains_dict['2QJB'] = ['A', 'B', 'C', 'D']\n",
    "biounit_chains_dict['2QJA'] = ['A', 'B', 'C', 'D']\n",
    "biounit_chains_dict['2QJ9'] = ['A', 'B', 'C', 'D']\n",
    "biounit_chains_dict['1MQ8'] = ['A', 'B']\n",
    "biounit_chains_dict['1XXM'] = ['A', 'C']\n",
    "biounit_chains_dict['2PYE'] = ['D', 'E']\n",
    "biounit_chains_dict['3HG1'] = ['A', 'C', 'D', 'E']\n",
    "biounit_chains_dict['1QAB'] = ['A', 'B', 'C', 'D', 'E', 'F']\n",
    "biounit_chains_dict['4UYP'] = ['A', 'B', 'C', 'D']\n",
    "biounit_chains_dict['4UYQ'] = ['A', 'B']\n",
    "biounit_chains_dict['2VN5'] = ['A', 'B']\n",
    "biounit_chains_dict['3BDY'] = ['H', 'L', 'V']\n",
    "biounit_chains_dict['3BE1'] = ['H', 'L', 'A']\n",
    "biounit_chains_dict['2NY7'] = ['H', 'L', 'G']\n",
    "biounit_chains_dict['3IDX'] = ['H', 'L', 'G']\n",
    "biounit_chains_dict['2C5D'] = ['A', 'B', 'C', 'D']\n",
    "biounit_chains_dict['1OHZ'] = ['A', 'B']\n",
    "biounit_chains_dict['1Y4A'] = ['E', 'I']\n",
    "biounit_chains_dict['2NOJ'] = ['A', 'B']\n",
    "biounit_chains_dict['2ABZ'] = ['B', 'E']\n",
    "biounit_chains_dict['2CCL'] = ['A', 'B']\n",
    "biounit_chains_dict['3UIH'] = ['A', 'B']\n",
    "biounit_chains_dict['3SE4'] = ['A', 'B', 'C']\n",
    "biounit_chains_dict['4GU0'] = ['A', 'C', 'E']\n",
    "\n",
    "\n"
   ]
  },
  {
   "cell_type": "code",
   "execution_count": 5,
   "metadata": {},
   "outputs": [
    {
     "name": "stderr",
     "output_type": "stream",
     "text": [
      "  0%|          | 0/270 [00:00<?, ?it/s]"
     ]
    },
    {
     "name": "stderr",
     "output_type": "stream",
     "text": [
      " 26%|██▌       | 70/270 [00:01<00:02, 77.94it/s]"
     ]
    },
    {
     "name": "stdout",
     "output_type": "stream",
     "text": [
      "Something is wrong for 1DVF-D-106-R\n"
     ]
    },
    {
     "name": "stderr",
     "output_type": "stream",
     "text": [
      "100%|██████████| 270/270 [00:02<00:00, 99.54it/s] "
     ]
    },
    {
     "name": "stdout",
     "output_type": "stream",
     "text": [
      "269\n",
      "dataname done!\n"
     ]
    },
    {
     "name": "stderr",
     "output_type": "stream",
     "text": [
      "\n"
     ]
    }
   ],
   "source": [
    "aa_coor_dict = dict()\n",
    "\n",
    "dataname = 'SM_ZEMu'\n",
    "# dataname = 'SM595'\n",
    "# dataname = 'SM1124'\n",
    "\n",
    "##Test 2\n",
    "no_error_count = 0\n",
    "data = pd.read_csv('./{}.csv'.format(dataname)).values.tolist() \n",
    "for item in tqdm(data):\n",
    "    # pdb_name,Partner1,Partner2,mutations,ddg,_ = item\n",
    "    \n",
    "    pdb_chains,num_mut,multiple_mutations,ddG,mmCSM_PPI,Zemu,DDMut_PPI = item\n",
    "    # pdb_chains,num_mut,multiple_mutations,ddG,mmCSM_PPI,discovery_studio,foldx,DDMut_PPI = item\n",
    "    # pdb_chains,num_mut,multiple_mutations,ddG,mmCSM_PPI,DDMut_PPI = item\n",
    "    \n",
    "    \n",
    "    pdb_name = pdb_chains[:4]\n",
    "    biounit_chains = biounit_chains_dict[pdb_name]\n",
    "    mutations = multiple_mutations.replace('_',',')\n",
    "\n",
    "    ## Get coordinates for each chain   \n",
    "    for chain in biounit_chains:\n",
    "        subunit_ID = pdb_name + '_' + chain\n",
    "\n",
    "        if subunit_ID not in aa_coor_dict.keys():\n",
    "            pos_data = get_chain_ca_coordinates('./PDBs/{}.pdb'.format(pdb_name),chain) # 获取alpha碳原子坐标\n",
    "            aa_coor_dict[subunit_ID] = pos_data\n",
    "    \n",
    "    ## 检查突变信息是否正确 \n",
    "    flag_mutation_right = True\n",
    "    for mutation in mutations.split(','):\n",
    "        mut_chain = mutation[1]\n",
    "        src_aa = mutation[0]\n",
    "        tgt_aa = mutation[-1]\n",
    "        pos = mutation[2:-1]\n",
    "\n",
    "        ##Check if mutation information is wrong\n",
    "        src_aa_pos = '{}-{}'.format(pos,src_aa)\n",
    "        mut_subunit = pdb_name + '_' + mut_chain\n",
    "\n",
    "        if src_aa_pos.upper() not in aa_coor_dict[mut_subunit].keys():\n",
    "            flag_mutation_right = False\n",
    "            mut_chain_wrong = mut_chain\n",
    "            src_aa_pos_wrong = src_aa_pos\n",
    "            \n",
    "    if not flag_mutation_right:\n",
    "        print(\"Something is wrong for {}-{}-{}\".format(pdb_name, mut_chain_wrong,src_aa_pos_wrong))\n",
    "    else:\n",
    "        no_error_count += 1\n",
    "\n",
    "\n",
    "print(no_error_count)\n",
    "np.save('./{}-position.npy'.format(dataname),aa_coor_dict)\n",
    "print('dataname done!')\n"
   ]
  },
  {
   "cell_type": "code",
   "execution_count": 6,
   "metadata": {},
   "outputs": [
    {
     "name": "stderr",
     "output_type": "stream",
     "text": [
      " 85%|████████▍ | 503/595 [00:06<00:01, 66.93it/s] "
     ]
    },
    {
     "name": "stdout",
     "output_type": "stream",
     "text": [
      "Something is wrong for 3BDY-L-98-T\n",
      "Something is wrong for 3BDY-H-101-G\n",
      "Something is wrong for 3BE1-L-98-T\n",
      "Something is wrong for 3BE1-H-102-D\n",
      "Something is wrong for 3BDY-L-98-T\n",
      "Something is wrong for 3BDY-H-101-G\n",
      "Something is wrong for 3BDY-H-60-R\n",
      "Something is wrong for 3BE1-L-98-T\n",
      "Something is wrong for 3BE1-H-102-D\n",
      "Something is wrong for 3BE1-H-102-D\n",
      "Something is wrong for 3BE1-L-33-I\n"
     ]
    },
    {
     "name": "stderr",
     "output_type": "stream",
     "text": [
      "100%|██████████| 595/595 [00:11<00:00, 49.87it/s]"
     ]
    },
    {
     "name": "stdout",
     "output_type": "stream",
     "text": [
      "584\n",
      "dataname done!\n"
     ]
    },
    {
     "name": "stderr",
     "output_type": "stream",
     "text": [
      "\n"
     ]
    }
   ],
   "source": [
    "aa_coor_dict = dict()\n",
    "\n",
    "# dataname = 'SM_ZEMu'\n",
    "dataname = 'SM595'\n",
    "# dataname = 'SM1124'\n",
    "\n",
    "##Test 2\n",
    "no_error_count = 0\n",
    "data = pd.read_csv('./{}.csv'.format(dataname)).values.tolist() \n",
    "for item in tqdm(data):\n",
    "    # pdb_name,Partner1,Partner2,mutations,ddg,_ = item\n",
    "    \n",
    "    # pdb_chains,num_mut,multiple_mutations,ddG,mmCSM_PPI,Zemu,DDMut_PPI = item\n",
    "    pdb_chains,num_mut,multiple_mutations,ddG,mmCSM_PPI,discovery_studio,foldx,DDMut_PPI = item\n",
    "    # pdb_chains,num_mut,multiple_mutations,ddG,mmCSM_PPI,DDMut_PPI = item\n",
    "    \n",
    "    \n",
    "    pdb_name = pdb_chains[:4]\n",
    "    biounit_chains = biounit_chains_dict[pdb_name]\n",
    "    mutations = multiple_mutations.replace('_',',')\n",
    "\n",
    "    ## Get coordinates for each chain   \n",
    "    for chain in biounit_chains:\n",
    "        subunit_ID = pdb_name + '_' + chain\n",
    "\n",
    "        if subunit_ID not in aa_coor_dict.keys():\n",
    "            pos_data = get_chain_ca_coordinates('./PDBs/{}.pdb'.format(pdb_name),chain) # 获取alpha碳原子坐标\n",
    "            aa_coor_dict[subunit_ID] = pos_data\n",
    "    \n",
    "    ## 检查突变信息是否正确 \n",
    "    flag_mutation_right = True\n",
    "    for mutation in mutations.split(','):\n",
    "        mut_chain = mutation[1]\n",
    "        src_aa = mutation[0]\n",
    "        tgt_aa = mutation[-1]\n",
    "        pos = mutation[2:-1]\n",
    "\n",
    "        ##Check if mutation information is wrong\n",
    "        src_aa_pos = '{}-{}'.format(pos,src_aa)\n",
    "        mut_subunit = pdb_name + '_' + mut_chain\n",
    "\n",
    "        if src_aa_pos.upper() not in aa_coor_dict[mut_subunit].keys():\n",
    "            flag_mutation_right = False\n",
    "            mut_chain_wrong = mut_chain\n",
    "            src_aa_pos_wrong = src_aa_pos\n",
    "            \n",
    "    if not flag_mutation_right:\n",
    "        print(\"Something is wrong for {}-{}-{}\".format(pdb_name, mut_chain_wrong,src_aa_pos_wrong))\n",
    "    else:\n",
    "        no_error_count += 1\n",
    "\n",
    "\n",
    "print(no_error_count)\n",
    "np.save('./{}-position.npy'.format(dataname),aa_coor_dict)\n",
    "print('dataname done!')\n"
   ]
  },
  {
   "cell_type": "code",
   "execution_count": 7,
   "metadata": {},
   "outputs": [
    {
     "name": "stderr",
     "output_type": "stream",
     "text": [
      "  7%|▋         | 74/1124 [00:00<00:12, 84.08it/s] "
     ]
    },
    {
     "name": "stdout",
     "output_type": "stream",
     "text": [
      "Something is wrong for 1DVF-D-106-R\n"
     ]
    },
    {
     "name": "stderr",
     "output_type": "stream",
     "text": [
      "100%|██████████| 1124/1124 [00:22<00:00, 49.62it/s]"
     ]
    },
    {
     "name": "stdout",
     "output_type": "stream",
     "text": [
      "1123\n",
      "dataname done!\n"
     ]
    },
    {
     "name": "stderr",
     "output_type": "stream",
     "text": [
      "\n"
     ]
    }
   ],
   "source": [
    "aa_coor_dict = dict()\n",
    "\n",
    "# dataname = 'SM_ZEMu'\n",
    "# dataname = 'SM595'\n",
    "dataname = 'SM1124'\n",
    "\n",
    "##Test 2\n",
    "no_error_count = 0\n",
    "data = pd.read_csv('./{}.csv'.format(dataname)).values.tolist() \n",
    "for item in tqdm(data):\n",
    "    # pdb_name,Partner1,Partner2,mutations,ddg,_ = item\n",
    "    \n",
    "    # pdb_chains,num_mut,multiple_mutations,ddG,mmCSM_PPI,Zemu,DDMut_PPI = item\n",
    "    # pdb_chains,num_mut,multiple_mutations,ddG,mmCSM_PPI,discovery_studio,foldx,DDMut_PPI = item\n",
    "    pdb_chains,num_mut,multiple_mutations,ddG,mmCSM_PPI,DDMut_PPI = item\n",
    "    \n",
    "    \n",
    "    pdb_name = pdb_chains[:4]\n",
    "    biounit_chains = biounit_chains_dict[pdb_name]\n",
    "    mutations = multiple_mutations.replace('_',',')\n",
    "\n",
    "    ## Get coordinates for each chain   \n",
    "    for chain in biounit_chains:\n",
    "        subunit_ID = pdb_name + '_' + chain\n",
    "\n",
    "        if subunit_ID not in aa_coor_dict.keys():\n",
    "            pos_data = get_chain_ca_coordinates('./PDBs/{}.pdb'.format(pdb_name),chain) # 获取alpha碳原子坐标\n",
    "            aa_coor_dict[subunit_ID] = pos_data\n",
    "    \n",
    "    ## 检查突变信息是否正确 \n",
    "    flag_mutation_right = True\n",
    "    for mutation in mutations.split(','):\n",
    "        mut_chain = mutation[1]\n",
    "        src_aa = mutation[0]\n",
    "        tgt_aa = mutation[-1]\n",
    "        pos = mutation[2:-1]\n",
    "\n",
    "        ##Check if mutation information is wrong\n",
    "        src_aa_pos = '{}-{}'.format(pos,src_aa)\n",
    "        mut_subunit = pdb_name + '_' + mut_chain\n",
    "\n",
    "        if src_aa_pos.upper() not in aa_coor_dict[mut_subunit].keys():\n",
    "            flag_mutation_right = False\n",
    "            mut_chain_wrong = mut_chain\n",
    "            src_aa_pos_wrong = src_aa_pos\n",
    "            \n",
    "    if not flag_mutation_right:\n",
    "        print(\"Something is wrong for {}-{}-{}\".format(pdb_name, mut_chain_wrong,src_aa_pos_wrong))\n",
    "    else:\n",
    "        no_error_count += 1\n",
    "\n",
    "\n",
    "print(no_error_count)\n",
    "np.save('./{}-position.npy'.format(dataname),aa_coor_dict)\n",
    "print('dataname done!')\n"
   ]
  }
 ],
 "metadata": {
  "kernelspec": {
   "display_name": "Python 3",
   "language": "python",
   "name": "python3"
  },
  "language_info": {
   "codemirror_mode": {
    "name": "ipython",
    "version": 3
   },
   "file_extension": ".py",
   "mimetype": "text/x-python",
   "name": "python",
   "nbconvert_exporter": "python",
   "pygments_lexer": "ipython3",
   "version": "3.10.17"
  }
 },
 "nbformat": 4,
 "nbformat_minor": 2
}
